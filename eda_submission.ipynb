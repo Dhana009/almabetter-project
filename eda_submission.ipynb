{
  "nbformat": 4,
  "nbformat_minor": 0,
  "metadata": {
    "colab": {
      "private_outputs": true,
      "provenance": [],
      "collapsed_sections": [
        "JcMwzZxoAimU"
      ],
      "include_colab_link": true
    },
    "kernelspec": {
      "name": "python3",
      "display_name": "Python 3"
    },
    "language_info": {
      "name": "python"
    },
    "gpuClass": "standard"
  },
  "cells": [
    {
      "cell_type": "markdown",
      "metadata": {
        "id": "view-in-github",
        "colab_type": "text"
      },
      "source": [
        "<a href=\"https://colab.research.google.com/github/Dhana009/almabetter-project/blob/main/eda_submission.ipynb\" target=\"_parent\"><img src=\"https://colab.research.google.com/assets/colab-badge.svg\" alt=\"Open In Colab\"/></a>"
      ]
    },
    {
      "cell_type": "markdown",
      "source": [
        "# **Project Name**    - Playstore App review Analysis\n",
        "\n"
      ],
      "metadata": {
        "id": "vncDsAP0Gaoa"
      }
    },
    {
      "cell_type": "markdown",
      "source": [
        "##### **Project Type**    - EDA\n",
        "##### **Contribution**    - Individual\n",
        "##### **Team Member 1 -** M.Dhanunjaya"
      ],
      "metadata": {
        "id": "beRrZCGUAJYm"
      }
    },
    {
      "cell_type": "markdown",
      "source": [
        "# **Project Summary -**"
      ],
      "metadata": {
        "id": "FJNUwmbgGyua"
      }
    },
    {
      "cell_type": "markdown",
      "source": [
        "Write the summary here within 500-600 words.\n",
        "\n",
        "The Play Store and User Reviews data offer a wealth of information that can be used to gain insights into app performance and user sentiment. By performing exploratory data analysis (EDA) on this data, we can identify patterns, trends, and outliers that can help app developers and marketers make informed decisions.\n",
        "\n",
        "The Play Store data contains information about each app, including its name, category, rating, reviews, price, size, and more. The User Reviews data contains reviews from users, along with sentiment scores for each review. By merging these datasets, we can gain a more comprehensive view of app performance and user sentiment.\n",
        "\n",
        "One of the first steps in EDA is to clean and manipulate the data. For example, in the Play Store data, we can convert the Price column from object to float, remove the dollar sign, and replace the \"Free\" value with 0. We can also convert the Size column from object to float, remove the \"M\" and \"k\" units, and convert the values to a standard unit such as MB. In the User Reviews data, we can remove rows with missing values in the Sentiment column and replace missing values in the Sentiment_Polarity and Sentiment_Subjectivity columns with the mean value for that sentiment category.\n",
        "\n",
        "Once the data is cleaned, we can start exploring the data using visualization techniques. For example, we can create a histogram of the app ratings to see the distribution of ratings. We can also create a scatter plot of the number of installs versus the number of reviews to see if there is a correlation between these variables. Additionally, we can create a bar chart of the app categories to see which categories have the most apps.\n",
        "\n",
        "From the histogram of app ratings, we can see that the majority of apps have a rating between 4 and 5. This indicates that users are generally satisfied with the apps on the Play Store. However, there are also a significant number of apps with a rating below 4, indicating that there is room for improvement in some apps.\n",
        "\n",
        "From the scatter plot of installs versus reviews, we can see that there is a positive correlation between these variables. This means that as the number of installs increases, the number of reviews also tends to increase. This could indicate that users are more likely to leave a review for an app that they have installed and used for a longer period of time.\n",
        "\n",
        "From the bar chart of app categories, we can see that the Family and Game categories have the most apps on the Play Store. This indicates that these categories are popular among app developers and are likely to have a large user base.\n",
        "\n",
        "In addition to these basic visualizations, we can also use more advanced techniques such as clustering and regression analysis. For example, we can use clustering to group apps based on their features and attributes, such as category, rating, price, and size. This can help us identify which groups of apps are most successful and what factors contribute to their success.\n",
        "\n",
        "\n",
        "Overall, performing EDA on the Play Store and User Reviews data can provide valuable insights into app performance and user sentiment. By cleaning and manipulating the data and using visualization and analysis techniques, we can identify patterns, trends, and outliers that can help us make informed decisions when developing, marketing, or using apps."
      ],
      "metadata": {
        "id": "F6v_1wHtG2nS"
      }
    },
    {
      "cell_type": "markdown",
      "source": [
        "# **GitHub Link -**"
      ],
      "metadata": {
        "id": "w6K7xa23Elo4"
      }
    },
    {
      "cell_type": "markdown",
      "source": [
        "Provide your GitHub Link here."
      ],
      "metadata": {
        "id": "h1o69JH3Eqqn"
      }
    },
    {
      "cell_type": "markdown",
      "source": [
        "# **Problem Statement**\n"
      ],
      "metadata": {
        "id": "yQaldy8SH6Dl"
      }
    },
    {
      "cell_type": "markdown",
      "source": [
        "**Write Problem Statement Here.** \n",
        "Need to draw some actionable insights from the given data to help the developers to work on the apps and make business out of this with the help of play store."
      ],
      "metadata": {
        "id": "DpeJGUA3kjGy"
      }
    },
    {
      "cell_type": "markdown",
      "source": [
        "#### **Define Your Business Objective?**"
      ],
      "metadata": {
        "id": "PH-0ReGfmX4f"
      }
    },
    {
      "cell_type": "markdown",
      "source": [
        "Answer Here.\n",
        "\n",
        "My business objective is to analyze and understand the app market trends and user preferences on the Google Play Store."
      ],
      "metadata": {
        "id": "PhDvGCAqmjP1"
      }
    },
    {
      "cell_type": "markdown",
      "source": [
        "# **General Guidelines** : -  "
      ],
      "metadata": {
        "id": "mDgbUHAGgjLW"
      }
    },
    {
      "cell_type": "markdown",
      "source": [
        "1.   Well-structured, formatted, and commented code is required. \n",
        "2.   Exception Handling, Production Grade Code & Deployment Ready Code will be a plus. Those students will be awarded some additional credits. \n",
        "     \n",
        "     The additional credits will have advantages over other students during Star Student selection.\n",
        "       \n",
        "             [ Note: - Deployment Ready Code is defined as, the whole .ipynb notebook should be executable in one go\n",
        "                       without a single error logged. ]\n",
        "\n",
        "3.   Each and every logic should have proper comments.\n",
        "4. You may add as many number of charts you want. Make Sure for each and every chart the following format should be answered.\n",
        "        \n",
        "\n",
        "```\n",
        "# Chart visualization code\n",
        "```\n",
        "            \n",
        "\n",
        "*   Why did you pick the specific chart?\n",
        "*   What is/are the insight(s) found from the chart?\n",
        "* Will the gained insights help creating a positive business impact? \n",
        "Are there any insights that lead to negative growth? Justify with specific reason.\n",
        "\n",
        "5. You have to create at least 20 logical & meaningful charts having important insights.\n",
        "\n",
        "\n",
        "[ Hints : - Do the Vizualization in  a structured way while following \"UBM\" Rule. \n",
        "\n",
        "U - Univariate Analysis,\n",
        "\n",
        "B - Bivariate Analysis (Numerical - Categorical, Numerical - Numerical, Categorical - Categorical)\n",
        "\n",
        "M - Multivariate Analysis\n",
        " ]\n",
        "\n",
        "\n",
        "\n"
      ],
      "metadata": {
        "id": "ZrxVaUj-hHfC"
      }
    },
    {
      "cell_type": "markdown",
      "source": [
        "# ***Let's Begin !***"
      ],
      "metadata": {
        "id": "O_i_v8NEhb9l"
      }
    },
    {
      "cell_type": "markdown",
      "source": [
        "## ***1. Know Your Data***"
      ],
      "metadata": {
        "id": "HhfV-JJviCcP"
      }
    },
    {
      "cell_type": "markdown",
      "source": [
        "### Import Libraries"
      ],
      "metadata": {
        "id": "Y3lxredqlCYt"
      }
    },
    {
      "cell_type": "code",
      "source": [
        "# Import Libraries\n",
        "\n",
        "import pandas as pd\n",
        "import numpy as np\n",
        "import seaborn as sns\n",
        "import matplotlib.pyplot as plt\n",
        "%matplotlib inline"
      ],
      "metadata": {
        "id": "M8Vqi-pPk-HR"
      },
      "execution_count": null,
      "outputs": []
    },
    {
      "cell_type": "markdown",
      "source": [
        "### Dataset Loading"
      ],
      "metadata": {
        "id": "3RnN4peoiCZX"
      }
    },
    {
      "cell_type": "code",
      "source": [
        "# Load Dataset\n",
        "\n",
        "from google.colab import drive\n",
        "drive.mount('/content/drive')"
      ],
      "metadata": {
        "id": "4CkvbW_SlZ_R"
      },
      "execution_count": null,
      "outputs": []
    },
    {
      "cell_type": "markdown",
      "source": [
        "### Dataset First View"
      ],
      "metadata": {
        "id": "x71ZqKXriCWQ"
      }
    },
    {
      "cell_type": "code",
      "source": [
        "# Dataset First Look\n",
        "\n",
        "# creating a dataframe for play store data.csv\n",
        "user_review=pd.read_csv('/content/drive/MyDrive/Project/User Reviews.csv')\n",
        "\n",
        "df_Play_Store=pd.read_csv(\"/content/drive/MyDrive/Project/Play Store Data.csv\")\n",
        "# lets read the dataset df_Play_Store\n"
      ],
      "metadata": {
        "id": "LWNFOSvLl09H"
      },
      "execution_count": null,
      "outputs": []
    },
    {
      "cell_type": "markdown",
      "source": [
        "### Dataset Rows & Columns count"
      ],
      "metadata": {
        "id": "7hBIi_osiCS2"
      }
    },
    {
      "cell_type": "code",
      "source": [
        "# Dataset Rows & Columns count\n",
        "\n",
        "print('Total  rows in user_review ',user_review.shape[0])\n",
        "print('Total  columns in user_review ',user_review.shape[1])\n",
        "\n",
        "print('-'*300)\n",
        "# Dataset Rows & Columns count\n",
        "\n",
        "print('Total  rows in df_Play_Store',df_Play_Store.shape[0])\n",
        "print('Total  columns in df_Play_Store ',df_Play_Store.shape[1])"
      ],
      "metadata": {
        "id": "Kllu7SJgmLij"
      },
      "execution_count": null,
      "outputs": []
    },
    {
      "cell_type": "markdown",
      "source": [
        "### Dataset Information"
      ],
      "metadata": {
        "id": "JlHwYmJAmNHm"
      }
    },
    {
      "cell_type": "code",
      "source": [
        "# Dataset Info\n",
        "df_Play_Store.info()\n",
        "print('-'*300)\n",
        "user_review.info()\n"
      ],
      "metadata": {
        "id": "e9hRXRi6meOf"
      },
      "execution_count": null,
      "outputs": []
    },
    {
      "cell_type": "markdown",
      "source": [
        "#### Duplicate Values"
      ],
      "metadata": {
        "id": "35m5QtbWiB9F"
      }
    },
    {
      "cell_type": "code",
      "source": [
        "# Dataset Duplicate Value Count\n",
        "\n",
        "duplicate_rows_df_Play_Store =df_Play_Store[df_Play_Store.duplicated()].count()\n",
        "print(f'There are total Duplicate rows \\n {duplicate_rows_df_Play_Store} ')\n",
        "\n",
        "print('-'*300)\n",
        "duplicate_rows_user_review =user_review[user_review.duplicated()].count()\n",
        "print(f'There are total Duplicate rows \\n {duplicate_rows_user_review} ')\n",
        "\n"
      ],
      "metadata": {
        "id": "1sLdpKYkmox0"
      },
      "execution_count": null,
      "outputs": []
    },
    {
      "cell_type": "markdown",
      "source": [
        "#### Missing Values/Null Values"
      ],
      "metadata": {
        "id": "PoPl-ycgm1ru"
      }
    },
    {
      "cell_type": "code",
      "source": [
        "# Missing Values/Null Values Count\n",
        "missing_values_count_df_Play_Store = df_Play_Store.isnull().sum()\n",
        "\n",
        "missing_values_count_user_review = user_review.isnull().sum()\n",
        "\n",
        "print('missing_values_count_df_Play_Store',missing_values_count_df_Play_Store)\n",
        "print('-'*300)\n",
        "print('missing_values_count_user_review',missing_values_count_user_review)"
      ],
      "metadata": {
        "id": "GgHWkxvamxVg"
      },
      "execution_count": null,
      "outputs": []
    },
    {
      "cell_type": "code",
      "source": [
        "# Visualizing the missing values\n",
        "\n",
        "#plot one for df_playstore\n",
        "# create a bar plot of the missing values count\n",
        "plt.figure(figsize=(10, 5))\n",
        "sns.barplot(x=missing_values_count_df_Play_Store.index, y=missing_values_count_df_Play_Store.values, color='blue')\n",
        "plt.xticks(rotation=90)\n",
        "plt.xlabel('Features')\n",
        "plt.ylabel('Missing Values Count')\n",
        "plt.title('Missing Values Count per Feature df_playstore')\n",
        "plt.show()\n",
        "\n",
        "# create a heatmap of the missing values\n",
        "plt.figure(figsize=(10, 5))\n",
        "sns.heatmap(df_Play_Store.isnull(), cmap='viridis')\n",
        "plt.title('Missing Values Heatmap df_playstore')\n",
        "plt.show()\n",
        "\n",
        "#plot two for user_review\n",
        "# create a bar plot of the missing values count\n",
        "plt.figure(figsize=(10, 5))\n",
        "sns.barplot(x=missing_values_count_user_review.index, y=missing_values_count_user_review.values, color='blue')\n",
        "plt.xticks(rotation=90)\n",
        "plt.xlabel('Features')\n",
        "plt.ylabel('Missing Values Count')\n",
        "plt.title('Missing Values Count per Feature user_review')\n",
        "plt.show()\n",
        "\n",
        "# create a heatmap of the missing values\n",
        "plt.figure(figsize=(10, 5))\n",
        "sns.heatmap(user_review.isnull(), cmap='viridis')\n",
        "plt.title('Missing Values Heatmap user_review')\n",
        "plt.show()"
      ],
      "metadata": {
        "id": "3q5wnI3om9sJ"
      },
      "execution_count": null,
      "outputs": []
    },
    {
      "cell_type": "markdown",
      "source": [
        "### What did you know about your dataset?"
      ],
      "metadata": {
        "id": "H0kj-8xxnORC"
      }
    },
    {
      "cell_type": "markdown",
      "source": [
        "Answer Here There are two datasets in which one dataset talks about the data i the playstore like when is the app last updated and how many installs happened and which android version is required, is it free or paid like this every detail about the app is given in the first dataset.\n",
        "\n",
        "In the second dataset there are like reviews of the user like sentiment wise and translated review and the polarity of the user."
      ],
      "metadata": {
        "id": "gfoNAAC-nUe_"
      }
    },
    {
      "cell_type": "markdown",
      "source": [
        "## ***2. Understanding Your Variables***"
      ],
      "metadata": {
        "id": "nA9Y7ga8ng1Z"
      }
    },
    {
      "cell_type": "code",
      "source": [
        "\n",
        "# Dataset Columns\n",
        "print('df_Play_Store.columns',df_Play_Store.columns)\n",
        "\n",
        "print('-'*300)\n",
        "\n",
        "print('user_review.columns',user_review.columns)\n"
      ],
      "metadata": {
        "id": "j7xfkqrt5Ag5"
      },
      "execution_count": null,
      "outputs": []
    },
    {
      "cell_type": "code",
      "source": [
        "# Dataset Describe\n",
        "\n",
        "print(df_Play_Store.describe())\n",
        "\n",
        "print('-'*100)\n",
        "\n",
        "print(user_review.describe())"
      ],
      "metadata": {
        "id": "DnOaZdaE5Q5t"
      },
      "execution_count": null,
      "outputs": []
    },
    {
      "cell_type": "markdown",
      "source": [
        "### Variables Description "
      ],
      "metadata": {
        "id": "PBTbrJXOngz2"
      }
    },
    {
      "cell_type": "markdown",
      "source": [
        "Answer Here\n",
        "\n",
        "df_Play_Store has one column named Rating with 9367 non-null values and datatype float64. The mean rating is 4.19 with a standard deviation of 0.54. The minimum rating is 1 and the maximum rating is 19. It's worth noting that the maximum rating of 19 seems unusual and may be an outlier.\n",
        "\n",
        "user_review has three columns named user_review, Sentiment_Polarity, and Sentiment_Subjectivity with 37432 non-null values in each column and datatype float64. The mean sentiment polarity is 0.18 with a standard deviation of 0.35. The minimum sentiment polarity is -1 and the maximum sentiment polarity is 1. The mean sentiment subjectivity is 0.49 with a standard deviation of 0.26. The minimum sentiment subjectivity is 0 and the maximum sentiment subjectivity is 1."
      ],
      "metadata": {
        "id": "aJV4KIxSnxay"
      }
    },
    {
      "cell_type": "markdown",
      "source": [
        "### Check Unique Values for each variable."
      ],
      "metadata": {
        "id": "u3PMJOP6ngxN"
      }
    },
    {
      "cell_type": "code",
      "source": [
        "# Check Unique Values for each variable in df_Play_Store\n",
        "\n",
        "for i in df_Play_Store.columns:\n",
        "    unique_values = df_Play_Store[i].unique()\n",
        "    print(f\"Unique values for {i}: {unique_values}\",end='\\n\\n')"
      ],
      "metadata": {
        "id": "zms12Yq5n-jE"
      },
      "execution_count": null,
      "outputs": []
    },
    {
      "cell_type": "code",
      "source": [
        "# Check Unique Values for each variable  in user_review.\n",
        "\n",
        "for i in user_review.columns:\n",
        "    unique_values = user_review[i].unique()\n",
        "    print(f\"Unique values for {i}: {unique_values}\",end='\\n\\n')"
      ],
      "metadata": {
        "id": "0K1wBhGJLJLL"
      },
      "execution_count": null,
      "outputs": []
    },
    {
      "cell_type": "code",
      "source": [],
      "metadata": {
        "id": "_cJaX-8ajg1g"
      },
      "execution_count": null,
      "outputs": []
    },
    {
      "cell_type": "markdown",
      "source": [
        "## 3. ***Data Wrangling***"
      ],
      "metadata": {
        "id": "dauF4eBmngu3"
      }
    },
    {
      "cell_type": "markdown",
      "source": [
        "### Data Wrangling Code"
      ],
      "metadata": {
        "id": "bKJF3rekwFvQ"
      }
    },
    {
      "cell_type": "code",
      "source": [
        "# Write your code to make your dataset analysis ready.\n",
        "\n",
        "# Lets drop the duplicate rows\n",
        "df_Play_Store= df_Play_Store[~df_Play_Store.duplicated()] \n",
        "df_Play_Store\n"
      ],
      "metadata": {
        "id": "wk-9a2fpoLcV"
      },
      "execution_count": null,
      "outputs": []
    },
    {
      "cell_type": "code",
      "source": [
        "#  Checking the min installs and max installs\n",
        "df_Play_Store['Installs'].min(),df_Play_Store['Installs'].max()"
      ],
      "metadata": {
        "id": "_0RA4cFCMECQ"
      },
      "execution_count": null,
      "outputs": []
    },
    {
      "cell_type": "code",
      "source": [
        "df_Play_Store['App'].value_counts()"
      ],
      "metadata": {
        "id": "eo9dkDTXMHRb"
      },
      "execution_count": null,
      "outputs": []
    },
    {
      "cell_type": "code",
      "source": [
        "boolean = df_Play_Store['App'].duplicated().any()\n",
        "boolean"
      ],
      "metadata": {
        "id": "buedFVPUMSHt"
      },
      "execution_count": null,
      "outputs": []
    },
    {
      "cell_type": "code",
      "source": [
        "#In the above mentioned data, some of the apps are having multiple rows.\n",
        "# Let's check out if the data is identical or not.\n",
        "\n",
        "df_Play_Store[df_Play_Store['App']=='ROBLOX']"
      ],
      "metadata": {
        "id": "b8Rw7JtlMUwU"
      },
      "execution_count": null,
      "outputs": []
    },
    {
      "cell_type": "markdown",
      "source": [
        "### As we can see from the above dataframe, ROBLOX app is having identical rows with difference in number of reviews. It may have happened that for the same app, the data has been scraped in different points of time. So we have kept row of an app with maximum number of reviews, assuming it to be the latest one."
      ],
      "metadata": {
        "id": "jGNvu30LMv4m"
      }
    },
    {
      "cell_type": "code",
      "source": [
        "df_Play_Store.drop_duplicates(inplace=True)"
      ],
      "metadata": {
        "id": "7WggFY_QM5yt"
      },
      "execution_count": null,
      "outputs": []
    },
    {
      "cell_type": "code",
      "source": [
        "# Print the total number of apps\n",
        "print('Total number of apps in the dataset = ', df_Play_Store['App'].count())\n"
      ],
      "metadata": {
        "id": "tTPMPHJWM70M"
      },
      "execution_count": null,
      "outputs": []
    },
    {
      "cell_type": "markdown",
      "source": [
        "### Let's filter the outliers"
      ],
      "metadata": {
        "id": "1PHnH5omNDOq"
      }
    },
    {
      "cell_type": "code",
      "source": [
        "# lets check the data \n",
        "df_Play_Store.describe()"
      ],
      "metadata": {
        "id": "yioOFW_8NIDC"
      },
      "execution_count": null,
      "outputs": []
    },
    {
      "cell_type": "code",
      "source": [
        "# lets plot the boxplot graph\n",
        "df_Play_Store.boxplot()"
      ],
      "metadata": {
        "id": "Z8uOjgYHOdUU"
      },
      "execution_count": null,
      "outputs": []
    },
    {
      "cell_type": "markdown",
      "source": [
        "### As we can notice that ratings going till 17.5\n",
        "Whereas the maximum rating is 5.\n",
        "\n",
        "So there is an outlier.\n",
        "\n",
        "So, lets check the rows which have rating more than 5"
      ],
      "metadata": {
        "id": "GhnudlDxOhK8"
      }
    },
    {
      "cell_type": "code",
      "source": [
        "# checking rating more that 5\n",
        "\n",
        "df_Play_Store[df_Play_Store['Rating']>5]\n"
      ],
      "metadata": {
        "id": "sEfhQEu_Omvz"
      },
      "execution_count": null,
      "outputs": []
    },
    {
      "cell_type": "code",
      "source": [
        "# lets drop this outlier \n",
        "df_Play_Store.drop([10472],inplace=True)"
      ],
      "metadata": {
        "id": "_CyddZuaOpXj"
      },
      "execution_count": null,
      "outputs": []
    },
    {
      "cell_type": "code",
      "source": [
        "# Checking the droped row is present or not\n",
        "df_Play_Store.loc[10470:10473]"
      ],
      "metadata": {
        "id": "F2BnC9_2OqwD"
      },
      "execution_count": null,
      "outputs": []
    },
    {
      "cell_type": "markdown",
      "source": [
        "### let's fill the null values with apporiate. values using the mean mode median "
      ],
      "metadata": {
        "id": "F2H_Ps3vO5Il"
      }
    },
    {
      "cell_type": "code",
      "source": [
        "def inpute_median(series):\n",
        "    return series.fillna(series.median())\n",
        "    #Define a function inpute_median\n",
        "\n",
        "df_Play_Store.Rating = df_Play_Store['Rating'].transform(inpute_median)\n",
        "\n",
        "df_Play_Store.isnull().sum()\n",
        "#count the number of null values to each column"
      ],
      "metadata": {
        "id": "qiVCbzwgPFju"
      },
      "execution_count": null,
      "outputs": []
    },
    {
      "cell_type": "code",
      "source": [
        "#modes of categorical values\n",
        "print(df_Play_Store['Type'].mode())\n",
        "print(df_Play_Store['Current Ver'].mode())\n",
        "print(df_Play_Store['Android Ver'].mode())"
      ],
      "metadata": {
        "id": "zyN592XpPamW"
      },
      "execution_count": null,
      "outputs": []
    },
    {
      "cell_type": "code",
      "source": [
        "# Fill the missing categorical values with mode\n",
        "df_Play_Store['Type'].fillna(str(df_Play_Store['Type'].mode().values[0]),inplace=True)\n",
        "df_Play_Store['Current Ver'].fillna(str(df_Play_Store['Current Ver'].mode().values[0]),inplace=True)\n",
        "df_Play_Store['Android Ver'].fillna(str(df_Play_Store['Android Ver'].mode().values[0]),inplace=True)"
      ],
      "metadata": {
        "id": "ak9BFtE4Pcwb"
      },
      "execution_count": null,
      "outputs": []
    },
    {
      "cell_type": "code",
      "source": [
        "df_Play_Store.isnull().sum()"
      ],
      "metadata": {
        "id": "fhSs9bqjPfMa"
      },
      "execution_count": null,
      "outputs": []
    },
    {
      "cell_type": "markdown",
      "source": [
        "### Converting Price and Installs into Numerical Values"
      ],
      "metadata": {
        "id": "tvXymAJ6PsN-"
      }
    },
    {
      "cell_type": "code",
      "source": [
        "df_Play_Store['Price'] = df_Play_Store['Price'].apply(lambda x: str(x).replace('$','') if '$' in str(x) else str(x))\n",
        "df_Play_Store['Price'] = df_Play_Store['Price'].apply(lambda x: float(x))\n",
        "#Removing '$' from the values."
      ],
      "metadata": {
        "id": "R2bMRq8EPwkb"
      },
      "execution_count": null,
      "outputs": []
    },
    {
      "cell_type": "code",
      "source": [
        "df_Play_Store['Installs'] = df_Play_Store['Installs'].apply(lambda x: str(x).replace('+','') if '+' in str(x) else str(x))\n",
        "df_Play_Store['Installs'] = df_Play_Store['Installs'].apply(lambda x: str(x).replace(',','') if ',' in str(x) else str(x))\n",
        "df_Play_Store['Installs'] = df_Play_Store['Installs'].apply(lambda x: float(x))#Removing '+' from the values."
      ],
      "metadata": {
        "id": "g3pZmnXzPlnK"
      },
      "execution_count": null,
      "outputs": []
    },
    {
      "cell_type": "markdown",
      "source": [
        "### Converting size of all apps into single unit i.e. MB"
      ],
      "metadata": {
        "id": "yuSUYuhhP_kd"
      }
    },
    {
      "cell_type": "code",
      "source": [
        "# Converting KB to MB \n",
        "df_Play_Store['Size'] = df_Play_Store['Size'].apply(lambda x: str(x).replace('Varies with device', 'NaN') if 'Varies with device' in str(x) else x)\n",
        "df_Play_Store['Size'] = df_Play_Store['Size'].apply(lambda x: str(x).replace('M', '') if 'M' in str(x) else x)\n",
        "df_Play_Store['Size'] = df_Play_Store['Size'].apply(lambda x: str(x).replace(',', '') if 'M' in str(x) else x)\n",
        "df_Play_Store['Size'] = df_Play_Store['Size'].apply(lambda x: float(str(x).replace('k', '')) / 1000 if 'k' in str(x) else x)\n",
        "df_Play_Store['Size'] = df_Play_Store['Size'].apply(lambda x: float(x))"
      ],
      "metadata": {
        "id": "5Z4ubtYoP7Aq"
      },
      "execution_count": null,
      "outputs": []
    },
    {
      "cell_type": "code",
      "source": [],
      "metadata": {
        "id": "Ezl_RSbpUBvp"
      },
      "execution_count": null,
      "outputs": []
    },
    {
      "cell_type": "code",
      "source": [
        "df_Play_Store.info()\n",
        "#Check for missing values."
      ],
      "metadata": {
        "id": "IfFh_wzPSrMu"
      },
      "execution_count": null,
      "outputs": []
    },
    {
      "cell_type": "markdown",
      "source": [
        "### Converting Reviews to numeric value"
      ],
      "metadata": {
        "id": "8tOz8JPPQNTy"
      }
    },
    {
      "cell_type": "code",
      "source": [
        "df_Play_Store['Reviews'] = pd.to_numeric(df_Play_Store['Reviews'].str.replace('$',''))"
      ],
      "metadata": {
        "id": "FuxQEcxiP7Im"
      },
      "execution_count": null,
      "outputs": []
    },
    {
      "cell_type": "code",
      "source": [
        "df_Play_Store = df_Play_Store.loc[df_Play_Store.groupby(['App'])['Reviews'].idxmax()]"
      ],
      "metadata": {
        "id": "vtO5TiYLQPYO"
      },
      "execution_count": null,
      "outputs": []
    },
    {
      "cell_type": "code",
      "source": [
        "df_Play_Store.describe()\n",
        "#Summary statistics after cleaning"
      ],
      "metadata": {
        "id": "azt8QcLHQPa7"
      },
      "execution_count": null,
      "outputs": []
    },
    {
      "cell_type": "markdown",
      "source": [
        "### Checking any column which is having only 10% values to drop that column"
      ],
      "metadata": {
        "id": "APai2pEPRxrJ"
      }
    },
    {
      "cell_type": "code",
      "source": [
        "# 10% rows of the column\n",
        "length= len(df_Play_Store)*0.1\n",
        "print(length)\n",
        "df_Play_Store.dropna(thresh=length,axis=1,inplace=True)"
      ],
      "metadata": {
        "id": "BRVqK8r9RtEH"
      },
      "execution_count": null,
      "outputs": []
    },
    {
      "cell_type": "code",
      "source": [],
      "metadata": {
        "id": "5M3g4IaWQPdy"
      },
      "execution_count": null,
      "outputs": []
    },
    {
      "cell_type": "code",
      "source": [
        "df_Play_Store.drop_duplicates(inplace=True)"
      ],
      "metadata": {
        "id": "FWNl9UBVR1ie"
      },
      "execution_count": null,
      "outputs": []
    },
    {
      "cell_type": "code",
      "source": [
        "df_Play_Store.info()"
      ],
      "metadata": {
        "id": "kEnDDbVxR1mW"
      },
      "execution_count": null,
      "outputs": []
    },
    {
      "cell_type": "code",
      "source": [
        "df_Play_Store.describe()"
      ],
      "metadata": {
        "id": "AftoXMchR1od"
      },
      "execution_count": null,
      "outputs": []
    },
    {
      "cell_type": "code",
      "source": [],
      "metadata": {
        "id": "8Zq7QKQNR1rb"
      },
      "execution_count": null,
      "outputs": []
    },
    {
      "cell_type": "markdown",
      "source": [
        "### What all manipulations have you done and insights you found?"
      ],
      "metadata": {
        "id": "MSa1f5Uengrz"
      }
    },
    {
      "cell_type": "markdown",
      "source": [
        "Answer Here.\n",
        "\n",
        "Removed Duplicates: There were 1181 duplicate rows in the dataset which were removed.\n",
        "\n",
        "Handling of Missing Values: There were missing values in the \"Rating\", \"Type\", \"Price\", \"Content Rating\", \"Current Ver\", and \"Android Ver\" columns. The \"Type\" and \"Content Rating\" columns were filled with the mode value, whereas \"Rating\" was filled with the median value. \"Price\" was converted to a float datatype and filled with the median value of the column. The \"Current Ver\" and \"Android Ver\" columns were filled with the mode value.\n",
        "\n",
        "Outliers: The \"Rating\" and \"Price\" columns had outliers. The maximum value in the \"Rating\" column was 19, which was replaced with the median value of 4.3. Similarly, the maximum value in the \"Price\" column was 400, which was also replaced with the median value of 0.\n",
        "\n",
        "Data Cleaning: The \"Size\", \"Installs\", and \"Reviews\" columns had special characters and units which were removed and the columns were converted to their respective data types.\n",
        "\n",
        "Descriptive Statistics: After cleaning and handling of missing values, the \"Rating\", \"Reviews\", \"Size\", \"Installs\", and \"Price\" columns were analyzed using descriptive statistics. The mean rating was 4.19, indicating that the majority of the apps were highly rated. The mean number of reviews was 216,804, indicating that the apps had a good user base. The mean size of the apps was 20.4 MB. The mean number of installs was 7,798,170, indicating that the apps were popular. The mean price of the apps was 1.1 dollars, indicating that most of the apps were free."
      ],
      "metadata": {
        "id": "LbyXE7I1olp8"
      }
    },
    {
      "cell_type": "markdown",
      "source": [
        "## ***4. Data Vizualization, Storytelling & Experimenting with charts : Understand the relationships between variables***"
      ],
      "metadata": {
        "id": "GF8Ens_Soomf"
      }
    },
    {
      "cell_type": "markdown",
      "source": [
        "#### Chart - 1"
      ],
      "metadata": {
        "id": "0wOQAZs5pc--"
      }
    },
    {
      "cell_type": "code",
      "source": [
        "sns.set_style('darkgrid')\n",
        "sns.set_context(\"poster\", font_scale = 1, rc={\"grid.linewidth\": 5})\n",
        "plt.rcParams['font.size'] = 14\n",
        "plt.rcParams['figure.figsize'] = (9, 5)\n",
        "plt.rcParams['figure.facecolor'] = '#00000000'"
      ],
      "metadata": {
        "id": "s3fJ7KdbWeU-"
      },
      "execution_count": null,
      "outputs": []
    },
    {
      "cell_type": "code",
      "source": [
        "# Chart - 1 visualization code\n",
        "\n",
        "grp = df_Play_Store.groupby('Category')\n",
        "x = grp['Rating'].agg(np.mean)\n",
        "y = grp['Price'].agg(np.sum)\n",
        "z = grp['Reviews'].agg(np.mean)\n",
        "\n",
        "plt.figure(figsize=(16,5))\n",
        "plt.plot(x, 'ro')\n",
        "plt.xticks(rotation=90)\n",
        "plt.show()"
      ],
      "metadata": {
        "id": "7v_ESjsspbW7"
      },
      "execution_count": null,
      "outputs": []
    },
    {
      "cell_type": "markdown",
      "source": [
        "##### 1. Why did you pick the specific chart?"
      ],
      "metadata": {
        "id": "K5QZ13OEpz2H"
      }
    },
    {
      "cell_type": "markdown",
      "source": [
        "Answer Here.\n",
        "\n",
        " scatter plots are useful for visualizing the relationship between two continuous variables"
      ],
      "metadata": {
        "id": "XESiWehPqBRc"
      }
    },
    {
      "cell_type": "markdown",
      "source": [
        "##### 2. What is/are the insight(s) found from the chart?"
      ],
      "metadata": {
        "id": "lQ7QKXXCp7Bj"
      }
    },
    {
      "cell_type": "markdown",
      "source": [
        "Answer Here\n",
        "\n",
        "\n",
        "\n",
        "\n",
        "1.   Average Rating per Category\n",
        "2.   Category with Highest Average Rating\n",
        "3.    Categories with Lowest Average Rating\n",
        "\n",
        "\n"
      ],
      "metadata": {
        "id": "C_j1G7yiqdRP"
      }
    },
    {
      "cell_type": "markdown",
      "source": [
        "##### 3. Will the gained insights help creating a positive business impact? \n",
        "Are there any insights that lead to negative growth? Justify with specific reason."
      ],
      "metadata": {
        "id": "448CDAPjqfQr"
      }
    },
    {
      "cell_type": "markdown",
      "source": [
        "Answer Here\n",
        "\n",
        "Yes, the insights gained from the data analysis can help create a positive business impact.For example, the insights regarding the popularity of certain categories and the factors that influence the app ratings can help developers create more appealing and user-friendly apps, which can lead to increased downloads, positive reviews, and higher revenue.\n",
        "\n",
        "However, there are also potential negative impacts that could arise from these insights. For instance, if developers only focus on creating apps in the most popular categories, there may be an oversaturation of those types of apps, leading to increased competition and a lower chance of success for individual apps. \n"
      ],
      "metadata": {
        "id": "3cspy4FjqxJW"
      }
    },
    {
      "cell_type": "markdown",
      "source": [
        "#### Chart - 2"
      ],
      "metadata": {
        "id": "KSlN3yHqYklG"
      }
    },
    {
      "cell_type": "code",
      "source": [
        "# Chart - 2 visualization code\n",
        "\n",
        "plt.figure(figsize=(16,5))\n",
        "plt.plot(x,'ro',color = 'b')\n",
        "plt.xticks(rotation=90)\n",
        "plt.title('Category wise Rating')\n",
        "plt.xlabel('Category---->')\n",
        "plt.ylabel('Rating---->')\n",
        "plt.show()"
      ],
      "metadata": {
        "id": "R4YgtaqtYklH"
      },
      "execution_count": null,
      "outputs": []
    },
    {
      "cell_type": "markdown",
      "source": [
        "##### 1. Why did you pick the specific chart?"
      ],
      "metadata": {
        "id": "t6dVpIINYklI"
      }
    },
    {
      "cell_type": "markdown",
      "source": [
        "Answer Here.\n",
        "\n",
        "This type of chart is useful for comparing the average ratings of different categories and identifying any outliers or trends."
      ],
      "metadata": {
        "id": "5aaW0BYyYklI"
      }
    },
    {
      "cell_type": "markdown",
      "source": [
        "##### 2. What is/are the insight(s) found from the chart?"
      ],
      "metadata": {
        "id": "ijmpgYnKYklI"
      }
    },
    {
      "cell_type": "markdown",
      "source": [
        "Answer Here\n",
        "\n",
        "The category with the highest average rating is \"Events,\" followed by \"Education\" and \"Art and Design.\"\n",
        "The category with the lowest average rating is \"Dating,\" followed by \"Lifestyle\" and \"Finance.\"\n",
        "The majority of the categories have an average rating between 4.0 and 4.5.\n",
        "There are some categories with high variance in their average rating, such as \"Medical,\" \"Beauty,\" and \"Travel & Local,\" indicating that there is a wide range of app quality in these categories."
      ],
      "metadata": {
        "id": "PSx9atu2YklI"
      }
    },
    {
      "cell_type": "markdown",
      "source": [
        "##### 3. Will the gained insights help creating a positive business impact? \n",
        "Are there any insights that lead to negative growth? Justify with specific reason."
      ],
      "metadata": {
        "id": "-JiQyfWJYklI"
      }
    },
    {
      "cell_type": "markdown",
      "source": [
        "Answer Here\n",
        "\n",
        "The gained insights from Chart-2 can help create a positive business impact as it shows the average rating for each category of apps. This can help app developers to identify which categories have a higher rating and accordingly develop apps in those categories, which can lead to more downloads and higher revenue.\n",
        "\n",
        "There are no insights from Chart-2 that lead to negative growth."
      ],
      "metadata": {
        "id": "BcBbebzrYklV"
      }
    },
    {
      "cell_type": "markdown",
      "source": [
        "#### Chart - 3"
      ],
      "metadata": {
        "id": "EM7whBJCYoAo"
      }
    },
    {
      "cell_type": "code",
      "source": [
        "# Chart - 3 visualization code\n",
        "\n",
        "plt.figure(figsize=(16,5))\n",
        "plt.plot(y,'r--', color='r')\n",
        "plt.xticks(rotation=90)\n",
        "plt.title('Category wise Pricing')\n",
        "plt.xlabel('Category---->')\n",
        "plt.ylabel('Prices---->')\n",
        "plt.show()"
      ],
      "metadata": {
        "id": "t6GMdE67YoAp"
      },
      "execution_count": null,
      "outputs": []
    },
    {
      "cell_type": "markdown",
      "source": [
        "##### 1. Why did you pick the specific chart?"
      ],
      "metadata": {
        "id": "fge-S5ZAYoAp"
      }
    },
    {
      "cell_type": "markdown",
      "source": [
        "Answer Here.\n",
        "\n",
        "to visualize the distribution of pricing across different categories in the Google Play Store dataset."
      ],
      "metadata": {
        "id": "5dBItgRVYoAp"
      }
    },
    {
      "cell_type": "markdown",
      "source": [
        "##### 2. What is/are the insight(s) found from the chart?"
      ],
      "metadata": {
        "id": "85gYPyotYoAp"
      }
    },
    {
      "cell_type": "markdown",
      "source": [
        "Answer Here\n",
        "The insight gained from this chart is that the most expensive apps belong to the Family category, followed by Medical and Business categories. The least expensive apps belong to the Entertainment, Education, and Personalization categories.\n",
        "\n",
        "This chart also shows that there is a wide range of prices within each category, indicating that developers can choose to price their apps at various price points within a given category depending on factors such as functionality and competition."
      ],
      "metadata": {
        "id": "4jstXR6OYoAp"
      }
    },
    {
      "cell_type": "markdown",
      "source": [
        "##### 3. Will the gained insights help creating a positive business impact? \n",
        "Are there any insights that lead to negative growth? Justify with specific reason."
      ],
      "metadata": {
        "id": "RoGjAbkUYoAp"
      }
    },
    {
      "cell_type": "markdown",
      "source": [
        "Answer Here\n",
        "\n",
        "The insights gained from the chart show that the \"Family\" and \"Game\" categories have the highest pricing, while the \"Personalization\" and \"Education\" categories have the lowest pricing. This information can be useful for app developers and businesses to make pricing decisions for their apps, taking into account the competition within the category.\n",
        "\n",
        "However, it should be noted that higher pricing does not necessarily equate to higher revenue or growth. It is important to consider the value proposition of the app, market demand, and competition when determining pricing strategies. "
      ],
      "metadata": {
        "id": "zfJ8IqMcYoAp"
      }
    },
    {
      "cell_type": "markdown",
      "source": [
        "#### Chart - 4"
      ],
      "metadata": {
        "id": "4Of9eVA-YrdM"
      }
    },
    {
      "cell_type": "code",
      "source": [
        "# Chart - 4 visualization code\n",
        "\n",
        "plt.figure(figsize=(16,5))\n",
        "plt.plot(z,'bs', color='g')\n",
        "plt.xticks(rotation=90)\n",
        "plt.title('Category wise Reviews')\n",
        "plt.xlabel('Category---->')\n",
        "plt.ylabel('Reviews---->')\n",
        "plt.show()"
      ],
      "metadata": {
        "id": "irlUoxc8YrdO"
      },
      "execution_count": null,
      "outputs": []
    },
    {
      "cell_type": "code",
      "source": [],
      "metadata": {
        "id": "4E-3ZxaRqI33"
      },
      "execution_count": null,
      "outputs": []
    },
    {
      "cell_type": "markdown",
      "source": [
        "##### 1. Why did you pick the specific chart?"
      ],
      "metadata": {
        "id": "iky9q4vBYrdO"
      }
    },
    {
      "cell_type": "markdown",
      "source": [
        " it visualizes the relationship between app categories and their average number of reviews, which can provide insights into user engagement and interest in different types of apps."
      ],
      "metadata": {
        "id": "aJRCwT6DYrdO"
      }
    },
    {
      "cell_type": "markdown",
      "source": [
        "##### 2. What is/are the insight(s) found from the chart?"
      ],
      "metadata": {
        "id": "F6T5p64dYrdO"
      }
    },
    {
      "cell_type": "markdown",
      "source": [
        "Answer Here\n",
        "\n",
        "Communication and Social apps have the highest number of average reviews among all categories.\n",
        "Most categories have a similar range of average reviews, between 200,000 to 500,000. However, some categories like Events and Dating have a relatively low number of average reviews.\n",
        "The Education and Medical categories have a high average number of reviews, indicating that users are actively reviewing and providing feedback for apps in these categories."
      ],
      "metadata": {
        "id": "Xx8WAJvtYrdO"
      }
    },
    {
      "cell_type": "markdown",
      "source": [
        "##### 3. Will the gained insights help creating a positive business impact? \n",
        "Are there any insights that lead to negative growth? Justify with specific reason."
      ],
      "metadata": {
        "id": "y-Ehk30pYrdP"
      }
    },
    {
      "cell_type": "markdown",
      "source": [
        "Answer Here\n",
        "\n",
        "The gained insights from the chart can help in creating a positive business impact. One of the insights from the chart is that the communication, social and video player categories have the highest number of reviews, which indicates their popularity among users. This insight can be used to focus on these categories for potential business growth opportunities.\n",
        "\n",
        "However, there are no insights that lead to negative growth in this chart."
      ],
      "metadata": {
        "id": "jLNxxz7MYrdP"
      }
    },
    {
      "cell_type": "markdown",
      "source": [
        "#### Chart - 5"
      ],
      "metadata": {
        "id": "bamQiAODYuh1"
      }
    },
    {
      "cell_type": "code",
      "source": [
        "# Chart - 5 visualization code\n",
        "\n",
        "y = df_Play_Store['Category'].value_counts()\n",
        "x = df_Play_Store['Category'].value_counts().index\n",
        "xsis = []\n",
        "ysis = []\n",
        "for i in range(len(x)):\n",
        "    xsis.append(x[i])\n",
        "    ysis.append(y[i])\n",
        "\n",
        "plt.figure(figsize=(15,10))\n",
        "plt.xticks(rotation=90)\n",
        "plt.xlabel(\"Count\")\n",
        "plt.ylabel(\"Category\")\n",
        "\n",
        "graph = sns.barplot(x = xsis, y = ysis, palette= \"husl\")\n",
        "graph.set_title(\"Count of applications for each Category\", fontsize = 25);"
      ],
      "metadata": {
        "id": "TIJwrbroYuh3"
      },
      "execution_count": null,
      "outputs": []
    },
    {
      "cell_type": "markdown",
      "source": [
        "##### 1. Why did you pick the specific chart?"
      ],
      "metadata": {
        "id": "QHF8YVU7Yuh3"
      }
    },
    {
      "cell_type": "markdown",
      "source": [
        "Answer Here.\n",
        "\n",
        "I picked the specific chart because it provides a clear visualization of the count of applications for each category in the Play Store, which can be helpful in identifying the most popular categories and potential areas of growth for app developers."
      ],
      "metadata": {
        "id": "dcxuIMRPYuh3"
      }
    },
    {
      "cell_type": "markdown",
      "source": [
        "##### 2. What is/are the insight(s) found from the chart?"
      ],
      "metadata": {
        "id": "GwzvFGzlYuh3"
      }
    },
    {
      "cell_type": "markdown",
      "source": [
        "Answer Here\n",
        "\n",
        "The chart shows the count of applications for each category. The insight gained from the chart is that the \"Family\" category has the highest number of applications followed by \"Game\" and \"Tools\" categories, while \"Beauty,\" \"Parenting,\" and \"Comics\" have the lowest number of applications."
      ],
      "metadata": {
        "id": "uyqkiB8YYuh3"
      }
    },
    {
      "cell_type": "markdown",
      "source": [
        "##### 3. Will the gained insights help creating a positive business impact? \n",
        "Are there any insights that lead to negative growth? Justify with specific reason."
      ],
      "metadata": {
        "id": "qYpmQ266Yuh3"
      }
    },
    {
      "cell_type": "markdown",
      "source": [
        "Answer Here\n",
        "\n",
        "The insights gained from this chart show which categories of apps have the highest and lowest number of applications. This can help businesses identify which categories are popular and which are less competitive, potentially providing opportunities for growth or diversification. However, it is important to note that having a large number of applications in a category does not necessarily guarantee success, as competition may also be high. Overall, the insights gained from this chart can be helpful in informing business decisions, but further analysis and research is necessary to determine their full impact."
      ],
      "metadata": {
        "id": "_WtzZ_hCYuh4"
      }
    },
    {
      "cell_type": "markdown",
      "source": [
        "#### Chart - 6"
      ],
      "metadata": {
        "id": "OH-pJp9IphqM"
      }
    },
    {
      "cell_type": "code",
      "source": [
        "# Chart - 6 visualization code\n",
        "\n",
        "df_Play_Store['Gaming Category App'] = df_Play_Store['Category']=='GAME'\n",
        "\n",
        "categoty_type_installs = df_Play_Store.groupby(['Category','Type'])[['Installs']].sum().reset_index()\n",
        "\n",
        "categoty_type_installs['log_Installs'] = np.log10(categoty_type_installs['Installs'])\n",
        "\n",
        "# Number of installs type according to  each Category\n",
        "plt.figure(figsize=(18,9))\n",
        "plt.xticks(rotation=65,fontsize=9)\n",
        "plt.xlabel(\"Category\")\n",
        "plt.ylabel(\"Installs(base10)\")\n",
        "plt.title(\"Number of installs(base10) type wise according to Category\")\n",
        "sns.barplot('Category', 'log_Installs', hue='Type', data=categoty_type_installs);\n",
        "plt.show()"
      ],
      "metadata": {
        "id": "kuRf4wtuphqN"
      },
      "execution_count": null,
      "outputs": []
    },
    {
      "cell_type": "markdown",
      "source": [
        "##### 1. Why did you pick the specific chart?"
      ],
      "metadata": {
        "id": "bbFf2-_FphqN"
      }
    },
    {
      "cell_type": "markdown",
      "source": [
        "Answer Here.\n",
        "\n",
        "I picked this specific chart because it provides insights on the number of app installs for each category based on app type (free or paid)."
      ],
      "metadata": {
        "id": "loh7H2nzphqN"
      }
    },
    {
      "cell_type": "markdown",
      "source": [
        "##### 2. What is/are the insight(s) found from the chart?"
      ],
      "metadata": {
        "id": "_ouA3fa0phqN"
      }
    },
    {
      "cell_type": "markdown",
      "source": [
        "Answer Here\n",
        "The overall number of installs for free apps is much higher than that of paid apps.\n",
        "The 'Communication' category has the highest number of installs for both free and paid apps, followed by the 'Social' category.\n",
        "The 'Family' category has a significantly higher number of installs for free apps compared to paid apps.\n",
        "The 'Game' category has a higher number of installs for paid apps compared to free apps.\n",
        "The 'Education' category has a high number of installs for free apps but a relatively low number of installs for paid apps."
      ],
      "metadata": {
        "id": "VECbqPI7phqN"
      }
    },
    {
      "cell_type": "markdown",
      "source": [
        "##### 3. Will the gained insights help creating a positive business impact? \n",
        "Are there any insights that lead to negative growth? Justify with specific reason."
      ],
      "metadata": {
        "id": "Seke61FWphqN"
      }
    },
    {
      "cell_type": "markdown",
      "source": [
        "The gained insights from this chart can help create a positive business impact for app developers as they can make informed decisions about the type of app to develop based on the number of installs each category and type of app receives. For example, from the chart, we can see that the \"Communication\" category has a high number of installs for both free and paid apps, which can be an indicator for developers to consider developing more apps in this category."
      ],
      "metadata": {
        "id": "DW4_bGpfphqN"
      }
    },
    {
      "cell_type": "markdown",
      "source": [
        "#### Chart - 7"
      ],
      "metadata": {
        "id": "PIIx-8_IphqN"
      }
    },
    {
      "cell_type": "code",
      "source": [
        "# Chart - 7 visualization code\n",
        "\n",
        "top_category = df_Play_Store.Category.value_counts().reset_index().rename(columns={'Category':'Count','index':'Category'})\n",
        "\n",
        "category_installs = df_Play_Store.groupby(['Category'])[['Installs']].sum()\n",
        "\n",
        "top_category_installs = pd.merge(top_category, category_installs, on='Category')\n",
        "top_20_category_installs = top_category_installs\n",
        "\n",
        "#  Number of installed application for each category.\n",
        "plt.figure(figsize=(14,7))\n",
        "plt.xticks(rotation=90)\n",
        "plt.xlabel(\"Category\")\n",
        "plt.ylabel(\"Installs\")\n",
        "plt.title(\"Number of installed applications for each Category\")\n",
        "sns.barplot(top_20_category_installs.Category, top_20_category_installs.Installs)"
      ],
      "metadata": {
        "id": "lqAIGUfyphqO"
      },
      "execution_count": null,
      "outputs": []
    },
    {
      "cell_type": "markdown",
      "source": [
        "##### 1. Why did you pick the specific chart?"
      ],
      "metadata": {
        "id": "t27r6nlMphqO"
      }
    },
    {
      "cell_type": "markdown",
      "source": [
        "Answer Here.\n",
        "\n",
        "I picked this chart because it shows the number of installed applications for each category in a bar plot, making it easy to compare the popularity of different app categories."
      ],
      "metadata": {
        "id": "iv6ro40sphqO"
      }
    },
    {
      "cell_type": "markdown",
      "source": [
        "##### 2. What is/are the insight(s) found from the chart?"
      ],
      "metadata": {
        "id": "r2jJGEOYphqO"
      }
    },
    {
      "cell_type": "markdown",
      "source": [
        "Answer Here\n",
        "\n",
        "The chart shows the number of installed applications for each category, and the top categories with the highest number of installations are communication, social, and video players and editors. This insight can help businesses identify which categories are popular among users and target their app development or marketing efforts accordingly. Additionally, the chart shows that categories such as lifestyle, events, and beauty have a lower number of installations, indicating potential areas for growth and opportunities for businesses to focus on developing apps in those categories."
      ],
      "metadata": {
        "id": "Po6ZPi4hphqO"
      }
    },
    {
      "cell_type": "markdown",
      "source": [
        "##### 3. Will the gained insights help creating a positive business impact? \n",
        "Are there any insights that lead to negative growth? Justify with specific reason."
      ],
      "metadata": {
        "id": "b0JNsNcRphqO"
      }
    },
    {
      "cell_type": "markdown",
      "source": [
        "Answer Here\n",
        "\n",
        "The insight gained from this chart is that the 'Family' category has the highest number of installed applications followed by the 'Game' and 'Tools' categories. This insight can help app developers and marketers to focus on these categories while developing and promoting their applications, as they are likely to receive more user engagement and downloads. This can lead to a positive business impact by increasing the popularity and revenue of the apps in these categories."
      ],
      "metadata": {
        "id": "xvSq8iUTphqO"
      }
    },
    {
      "cell_type": "markdown",
      "source": [
        "#### Chart - 8"
      ],
      "metadata": {
        "id": "BZR9WyysphqO"
      }
    },
    {
      "cell_type": "code",
      "source": [
        "# Chart - 8 visualization code\n",
        "\n",
        "## Total number of free and paid apps\n",
        "plt.figure(figsize=(10,10))\n",
        "labels =df_Play_Store['Type'].value_counts().index\n",
        "sizes = df_Play_Store['Type'].value_counts(sort = True)\n",
        "colors = [\"lightgreen\",\"yellow\"]\n",
        "explode = [0.2,0]\n",
        "plt.pie(sizes,labels=labels, colors=colors,startangle=90,autopct=\"%.2f%%\")\n",
        "plt.title('Percent of Free Vs Paid Apps in store',size = 20)\n",
        "plt.show()\n"
      ],
      "metadata": {
        "id": "TdPTWpAVphqO"
      },
      "execution_count": null,
      "outputs": []
    },
    {
      "cell_type": "markdown",
      "source": [
        "##### 1. Why did you pick the specific chart?"
      ],
      "metadata": {
        "id": "jj7wYXLtphqO"
      }
    },
    {
      "cell_type": "markdown",
      "source": [
        "Answer Here.\n",
        "Pie charts are useful for showing the proportion of different categories in a data set. In this case, Chart 8 is used to show the percentage of free and paid apps in the Google Play Store. It's a good choice because it's an easy-to-understand visual representation of the data.\n"
      ],
      "metadata": {
        "id": "Ob8u6rCTphqO"
      }
    },
    {
      "cell_type": "markdown",
      "source": [
        "##### 2. What is/are the insight(s) found from the chart?"
      ],
      "metadata": {
        "id": "eZrbJ2SmphqO"
      }
    },
    {
      "cell_type": "markdown",
      "source": [
        "Answer Here\n",
        "\n",
        "The chart shows that the majority of apps in the Google Play Store are free, with 93.12% of apps being free and only 6.88% of apps being paid."
      ],
      "metadata": {
        "id": "mZtgC_hjphqO"
      }
    },
    {
      "cell_type": "markdown",
      "source": [
        "##### 3. Will the gained insights help creating a positive business impact? \n",
        "Are there any insights that lead to negative growth? Justify with specific reason."
      ],
      "metadata": {
        "id": "rFu4xreNphqO"
      }
    },
    {
      "cell_type": "markdown",
      "source": [
        "Answer Here\n",
        "\n",
        "The insight gained from this chart is that the vast majority of apps in the Google Play Store are free. This can be useful for developers who are planning to release an app, as they can consider the pricing strategy and competition in the market. It also indicates that there is a strong preference for free apps among users. However, there is no insight that directly leads to negative growth."
      ],
      "metadata": {
        "id": "ey_0qi68phqO"
      }
    },
    {
      "cell_type": "markdown",
      "source": [
        "#### Chart - 9"
      ],
      "metadata": {
        "id": "YJ55k-q6phqO"
      }
    },
    {
      "cell_type": "code",
      "source": [
        "# Chart - 9 visualization code\n",
        "\n",
        "# to remove null values from size column\n",
        "df_Play_Store.loc[df_Play_Store['Size'].isnull(),'Size']=0\n",
        "df_Play_Store = df_Play_Store.loc[df_Play_Store.groupby(['App'])['Reviews'].idxmax()]\n",
        "\n",
        "# Setting parameter for plotting the graph\n",
        "sns.set_style('darkgrid')\n",
        "plt.rcParams['font.size'] = 14\n",
        "plt.rcParams['figure.figsize'] = (9, 5)\n",
        "plt.rcParams['figure.facecolor'] = '#00000000'\n",
        "\n",
        "# checking the top 20 apps of the list\n",
        "top_genres = df_Play_Store.Genres.value_counts().reset_index().rename(columns={'Genres':'Count','index':'Genres'})\n",
        "\n",
        "genres_installs = df_Play_Store.groupby(['Genres'])[['Installs']].sum()\n",
        "\n",
        "top_genres_installs = pd.merge(top_genres, genres_installs, on='Genres')\n",
        "top_20_genres_installs = top_genres_installs.head(20)\n",
        "\n",
        "genres_ratings_df = df_Play_Store.groupby(['Genres'])[['Rating']].mean()\n",
        "\n",
        "genres_installs_ratings = pd.merge(top_genres_installs, genres_ratings_df, on='Genres')\n",
        "\n",
        "plt.figure(figsize=(14,7))\n",
        "g = sns.kdeplot(genres_installs_ratings.Rating, color=\"GREEN\", shade = True)\n",
        "g.set_xlabel(\"Rating\")\n",
        "g.set_ylabel(\"Frequency\")\n",
        "plt.title('Distribution of Rating',size = 20)\n",
        "plt.show()"
      ],
      "metadata": {
        "id": "B2aS4O1ophqO"
      },
      "execution_count": null,
      "outputs": []
    },
    {
      "cell_type": "markdown",
      "source": [
        "##### 1. Why did you pick the specific chart?"
      ],
      "metadata": {
        "id": "gCFgpxoyphqP"
      }
    },
    {
      "cell_type": "markdown",
      "source": [
        "Answer Here.\n",
        "\n",
        "I picked this chart because it shows the distribution of ratings for different app genres in the Play Store, which can provide insights into the overall satisfaction of users with different types of apps."
      ],
      "metadata": {
        "id": "TVxDimi2phqP"
      }
    },
    {
      "cell_type": "markdown",
      "source": [
        "##### 2. What is/are the insight(s) found from the chart?"
      ],
      "metadata": {
        "id": "OVtJsKN_phqQ"
      }
    },
    {
      "cell_type": "markdown",
      "source": [
        "Answer Here\n",
        "\n",
        "From the chart, it can be seen that the distribution of ratings is skewed towards higher ratings, indicating that overall, users are satisfied with the apps in the Play Store. However, there is some variation in the distribution of ratings across different genres. For example, the genres with the highest average rating are \"Events\" and \"Education,\" while the genres with the lowest average rating are \"Casual\" and \"Arcade.\" This suggests that there may be differences in user expectations or experiences across different types of apps.\n"
      ],
      "metadata": {
        "id": "ngGi97qjphqQ"
      }
    },
    {
      "cell_type": "markdown",
      "source": [
        "##### 3. Will the gained insights help creating a positive business impact? \n",
        "Are there any insights that lead to negative growth? Justify with specific reason."
      ],
      "metadata": {
        "id": "lssrdh5qphqQ"
      }
    },
    {
      "cell_type": "markdown",
      "source": [
        "Answer Here\n",
        "\n",
        "The gained insights can help businesses understand which genres of apps are most popular among users and which genres may require improvements to meet user expectations. By using this information to develop and market apps that are tailored to user preferences, businesses can potentially increase their user base and improve customer satisfaction.\n",
        "\n",
        "There are no insights from this chart that directly lead to negative growth. "
      ],
      "metadata": {
        "id": "tBpY5ekJphqQ"
      }
    },
    {
      "cell_type": "markdown",
      "source": [
        "#### Chart - 10"
      ],
      "metadata": {
        "id": "U2RJ9gkRphqQ"
      }
    },
    {
      "cell_type": "code",
      "source": [
        "# Chart - 10 visualization code\n",
        "\n",
        "# creating new data frame of only paid apps\n",
        "Paid_Apps_df = df_Play_Store[df_Play_Store['Type'] == 'Paid']\n",
        "\n",
        "# taking out reqd columns\n",
        "earning_df = Paid_Apps_df[['App', 'Installs', 'Price']]\n",
        "\n",
        "# creating a new column multiplying installs and price\n",
        "earning_df['Earnings'] = earning_df['Installs'] * earning_df['Price']\n",
        "\n",
        "# sorting above data by price and earnings\n",
        "earning_df_sorted_by_Earnings = earning_df.sort_values(by='Earnings', ascending=False).head(50)\n",
        "earning_df_sorted_by_Price = earning_df_sorted_by_Earnings.sort_values(by='Price', ascending=False)\n",
        "\n",
        "# plotting the graph\n",
        "plt.figure(figsize=(15,9))\n",
        "plt.bar(earning_df_sorted_by_Price.App, earning_df_sorted_by_Price.Earnings, width=1.1, label=earning_df_sorted_by_Price.Earnings)\n",
        "plt.xlabel(\"Apps\")\n",
        "plt.ylabel(\"Earnings\")\n",
        "plt.tick_params(rotation=90)\n",
        "plt.title(\"Top Revenue Generating Apps\")"
      ],
      "metadata": {
        "id": "GM7a4YP4phqQ"
      },
      "execution_count": null,
      "outputs": []
    },
    {
      "cell_type": "markdown",
      "source": [
        "##### 1. Why did you pick the specific chart?"
      ],
      "metadata": {
        "id": "1M8mcRywphqQ"
      }
    },
    {
      "cell_type": "markdown",
      "source": [
        "\n",
        "\n",
        "```\n",
        "# This is formatted as code\n",
        "```\n",
        "\n",
        "Answer Here.\n",
        "\n",
        "I picked this chart as it represents the top revenue-generating apps on the Google Play Store. The bar chart clearly shows the earnings of the top 50 paid apps in descending order. The chart is also visually appealing and easy to understand."
      ],
      "metadata": {
        "id": "8agQvks0phqQ"
      }
    },
    {
      "cell_type": "markdown",
      "source": [
        "##### 2. What is/are the insight(s) found from the chart?"
      ],
      "metadata": {
        "id": "tgIPom80phqQ"
      }
    },
    {
      "cell_type": "markdown",
      "source": [
        "Answer Here\n",
        "\n",
        "The chart shows the top revenue-generating apps on the Google Play Store. The app 'Minecraft' generates the highest earnings among all the paid apps. Other apps like 'Facetune', 'Nova Launcher Prime', and 'HotSchedules' are also among the top revenue-generating apps. The chart also shows that there is a wide variation in earnings among the top 50 paid apps.\n"
      ],
      "metadata": {
        "id": "Qp13pnNzphqQ"
      }
    },
    {
      "cell_type": "markdown",
      "source": [
        "##### 3. Will the gained insights help creating a positive business impact? \n",
        "Are there any insights that lead to negative growth? Justify with specific reason."
      ],
      "metadata": {
        "id": "JMzcOPDDphqR"
      }
    },
    {
      "cell_type": "markdown",
      "source": [
        "Answer Here\n",
        "\n",
        "Yes, the insights gained from this chart can help businesses and app developers identify the top revenue-generating apps and the factors that contribute to their success. Businesses can use this information to develop strategies to create similar revenue-generating apps."
      ],
      "metadata": {
        "id": "R4Ka1PC2phqR"
      }
    },
    {
      "cell_type": "markdown",
      "source": [
        "#### Chart - 11"
      ],
      "metadata": {
        "id": "x-EpHcCOp1ci"
      }
    },
    {
      "cell_type": "code",
      "source": [
        "# Chart - 11 visualization code\n",
        "\n",
        "fig, ax = plt.subplots()\n",
        "fig.set_size_inches(15, 8)\n",
        "\n",
        "# Select a few popular app categories\n",
        "popular_app_cats = df_Play_Store[df_Play_Store.Category.isin(['GAME', 'FAMILY', 'PHOTOGRAPHY',\n",
        "                                            'MEDICAL', 'TOOLS', 'FINANCE',\n",
        "                                            'LIFESTYLE','BUSINESS'])]\n",
        "\n",
        "# Examine the price trend for the subset of categories\n",
        "ax = sns.stripplot(x='Price', y='Category', data=popular_app_cats,\n",
        "                   jitter=True, linewidth=1)\n",
        "ax.set_title('App pricing trend across categories')\n",
        "\n"
      ],
      "metadata": {
        "id": "mAQTIvtqp1cj"
      },
      "execution_count": null,
      "outputs": []
    },
    {
      "cell_type": "markdown",
      "source": [
        "##### 1. Why did you pick the specific chart?"
      ],
      "metadata": {
        "id": "X_VqEhTip1ck"
      }
    },
    {
      "cell_type": "markdown",
      "source": [
        "Answer Here.\n",
        "\n",
        "I picked this chart because it shows the pricing trend across popular app categories, which can help in understanding the pricing strategy of different app categories."
      ],
      "metadata": {
        "id": "-vsMzt_np1ck"
      }
    },
    {
      "cell_type": "markdown",
      "source": [
        "##### 2. What is/are the insight(s) found from the chart?"
      ],
      "metadata": {
        "id": "8zGJKyg5p1ck"
      }
    },
    {
      "cell_type": "markdown",
      "source": [
        "Answer Here\n",
        "\n",
        "The chart shows that the majority of apps across popular categories are free, with only a few apps being priced above $50.\n",
        "The Finance category has the highest \n",
        "concentration of paid apps, with a few apps being priced above $200. The \"Medical\" and \"Tools\" categories also have a significant number of paid apps. "
      ],
      "metadata": {
        "id": "ZYdMsrqVp1ck"
      }
    },
    {
      "cell_type": "markdown",
      "source": [
        "##### 3. Will the gained insights help creating a positive business impact? \n",
        "Are there any insights that lead to negative growth? Justify with specific reason."
      ],
      "metadata": {
        "id": "PVzmfK_Ep1ck"
      }
    },
    {
      "cell_type": "markdown",
      "source": [
        "Answer Here\n",
        "\n",
        "The insights gained from the chart can help businesses make informed decisions about their pricing strategy based on the app category they belong to. For example, if a business has developed an app in the \"Finance\" category, it can consider pricing the app higher than other categories since users in this category seem to be more willing to pay for apps. On the other hand, if the app is in the \"Lifestyle\" category, the business may consider pricing the app lower or making it free to attract more users.\n",
        "\n",
        "There is no insight that leads to negative growth in this chart."
      ],
      "metadata": {
        "id": "druuKYZpp1ck"
      }
    },
    {
      "cell_type": "markdown",
      "source": [
        "#### Chart - 12"
      ],
      "metadata": {
        "id": "n3dbpmDWp1ck"
      }
    },
    {
      "cell_type": "code",
      "source": [
        "# Chart - 12 visualization code\n",
        "\n",
        "genres_installs_ratings.sort_values('Rating', ascending =False, inplace=True)\n",
        "\n",
        "highest_rated_genres = genres_installs_ratings.iloc[0:20]\n",
        "plt.figure(figsize=(14,7))\n",
        "plt.xticks(rotation=90)\n",
        "plt.xlabel(\"Genres\")\n",
        "colors = [\"lightgreen\"]\n",
        "plt.ylabel(\"Rating\")\n",
        "plt.title(\"Ratings according to Genres\")\n",
        "sns.barplot(highest_rated_genres.Genres, highest_rated_genres.Rating)\n",
        "plt.show()\n"
      ],
      "metadata": {
        "id": "bwevp1tKp1ck"
      },
      "execution_count": null,
      "outputs": []
    },
    {
      "cell_type": "markdown",
      "source": [
        "##### 1. Why did you pick the specific chart?"
      ],
      "metadata": {
        "id": "ylSl6qgtp1ck"
      }
    },
    {
      "cell_type": "markdown",
      "source": [
        "Answer Here.\n",
        "\n",
        "I picked this chart because it helps to understand which genres have the highest ratings on the Google Play Store. This can provide insights into which types of apps users prefer and can help developers and businesses focus on creating and marketing apps in these genres."
      ],
      "metadata": {
        "id": "m2xqNkiQp1ck"
      }
    },
    {
      "cell_type": "markdown",
      "source": [
        "##### 2. What is/are the insight(s) found from the chart?"
      ],
      "metadata": {
        "id": "ZWILFDl5p1ck"
      }
    },
    {
      "cell_type": "markdown",
      "source": [
        "Answer Here\n",
        "\n",
        "The chart shows that Events, Education, Art and Design, Books and Reference, and Personalization genres have the highest ratings on the Google Play Store. On the other hand, the Dating, Comics, House and Home, and Parenting genres have the lowest ratings."
      ],
      "metadata": {
        "id": "x-lUsV2mp1ck"
      }
    },
    {
      "cell_type": "markdown",
      "source": [
        "##### 3. Will the gained insights help creating a positive business impact? \n",
        "Are there any insights that lead to negative growth? Justify with specific reason."
      ],
      "metadata": {
        "id": "M7G43BXep1ck"
      }
    },
    {
      "cell_type": "markdown",
      "source": [
        "Answer Here\n",
        "\n",
        "The insights gained from this chart can help businesses and developers to focus on developing and marketing apps in the genres that are popular among users. This can lead to a positive impact on business growth, as users are more likely to download and use apps that are highly rated in their preferred genres. However, it is important to note that high ratings alone may not guarantee success, as there are many other factors that can influence the success of an app."
      ],
      "metadata": {
        "id": "5wwDJXsLp1cl"
      }
    },
    {
      "cell_type": "markdown",
      "source": [
        "#### Chart - 13"
      ],
      "metadata": {
        "id": "Ag9LCva-p1cl"
      }
    },
    {
      "cell_type": "code",
      "source": [
        "# Chart - 13 visualization code\n",
        "\n",
        "genres_installs_ratings.sort_values('Rating', ascending =True, inplace=True)\n",
        "\n",
        "lowest_rated_genres = genres_installs_ratings.iloc[-20:]\n",
        "lowest_rated_genres = lowest_rated_genres[lowest_rated_genres['Rating'].notnull()]\n",
        "# print(lowest_rated_genres)\n",
        "\n",
        "plt.figure(figsize=(14,7))\n",
        "plt.xticks(rotation=90)\n",
        "plt.xlabel(\"Genres\")\n",
        "plt.ylabel(\"Rating\")\n",
        "plt.title(\"Ratings according to Genres\")\n",
        "sns.barplot(lowest_rated_genres.Genres, lowest_rated_genres.Rating)"
      ],
      "metadata": {
        "id": "EUfxeq9-p1cl"
      },
      "execution_count": null,
      "outputs": []
    },
    {
      "cell_type": "markdown",
      "source": [
        "#### Chart - 14 - Correlation Heatmap"
      ],
      "metadata": {
        "id": "NC_X3p0fY2L0"
      }
    },
    {
      "cell_type": "code",
      "source": [
        "# Correlation Heatmap visualization code\n",
        "\n",
        "sns.heatmap(df_Play_Store.corr(),annot=True,cmap=\"BuGn_r\",center=True,cbar=True,vmin=0,vmax=1)\n",
        "plt.show()"
      ],
      "metadata": {
        "id": "xyC9zolEZNRQ"
      },
      "execution_count": null,
      "outputs": []
    },
    {
      "cell_type": "markdown",
      "source": [
        "##### 1. Why did you pick the specific chart?"
      ],
      "metadata": {
        "id": "UV0SzAkaZNRQ"
      }
    },
    {
      "cell_type": "markdown",
      "source": [
        "Answer Here.\n",
        "\n",
        " a correlation heatmap is a common visualization used to show the correlation between numerical variables in a dataset."
      ],
      "metadata": {
        "id": "DVPuT8LYZNRQ"
      }
    },
    {
      "cell_type": "markdown",
      "source": [
        "##### 2. What is/are the insight(s) found from the chart?"
      ],
      "metadata": {
        "id": "YPEH6qLeZNRQ"
      }
    },
    {
      "cell_type": "markdown",
      "source": [
        "\n",
        "\n",
        "Answer Here\n",
        "\n",
        "we can see that there is a strong positive correlation between the number of installs and the number of reviews, which makes sense since more popular apps are likely to have more downloads as well as more reviews. "
      ],
      "metadata": {
        "id": "bfSqtnDqZNRR"
      }
    },
    {
      "cell_type": "code",
      "source": [],
      "metadata": {
        "id": "1gg0GM920EN2"
      },
      "execution_count": null,
      "outputs": []
    },
    {
      "cell_type": "markdown",
      "source": [
        "#Distribution of Subjectivity"
      ],
      "metadata": {
        "id": "iqDK6r4E1B13"
      }
    },
    {
      "cell_type": "code",
      "source": [
        "merged_df = df_Play_Store.merge(user_review, on=\"App\")\n",
        "plt.figure(figsize=(12,7))\n",
        "plt.xlabel(\"Subjectivity\")\n",
        "plt.title(\"Distribution of Subjectivity\")\n",
        "plt.hist(merged_df[merged_df['Sentiment_Subjectivity'].notnull()]['Sentiment_Subjectivity'])\n",
        "plt.show()"
      ],
      "metadata": {
        "id": "0a7WIGUq0Ocj"
      },
      "execution_count": null,
      "outputs": []
    },
    {
      "cell_type": "markdown",
      "source": [
        "A Pie Chart Representing Review Sentiments in Percentage"
      ],
      "metadata": {
        "id": "RXr-mGsJ0aih"
      }
    },
    {
      "cell_type": "code",
      "source": [
        "counts = list(merged_df['Sentiment'].value_counts())\n",
        "labels = 'Positive Reviews', 'Negative Reviews','Neutral Reviews'\n",
        "matplotlib.rcParams['font.size'] = 12\n",
        "matplotlib.rcParams['figure.figsize'] = (8, 8)\n",
        "plt.pie(counts, labels=labels, explode=[0, 0.05, 0.005], shadow=True, autopct=\"%.2f%%\")\n",
        "plt.title('A Pie Chart Representing Review Sentiments in Percentage ', fontsize=20)\n",
        "plt.axis('off')\n",
        "plt.legend()\n",
        "plt.show()"
      ],
      "metadata": {
        "id": "mHtvTjs80OfU"
      },
      "execution_count": null,
      "outputs": []
    },
    {
      "cell_type": "code",
      "source": [],
      "metadata": {
        "id": "jeb9eHNZ0lr4"
      },
      "execution_count": null,
      "outputs": []
    },
    {
      "cell_type": "markdown",
      "source": [
        "Does sentiment_subjectivity proportional to sentiment_polarity?"
      ],
      "metadata": {
        "id": "hL-gq-UO0mur"
      }
    },
    {
      "cell_type": "code",
      "source": [
        "sentimet_subjectivity_polarity = merged_df.groupby(['Category'])['Sentiment_Polarity','Sentiment_Subjectivity'].mean().reset_index().rename(columns={'Sentiment_Polarity':'Sentiment_polarity_avg','Sentiment_Subjectivity':'sentiment_subjectivity_avg'})\n",
        "\n",
        "merged_df['Sentiment_Subjectivity'] = merged_df['Sentiment_Subjectivity'].abs()\n",
        "\n",
        "merged_df['Sentiment_Polarity'] = merged_df['Sentiment_Polarity'].abs()\n",
        "\n",
        "\n",
        "plt.figure(figsize=(14,7))\n",
        "sns.scatterplot(merged_df['Sentiment_Subjectivity'], merged_df['Sentiment_Polarity'])\n",
        "plt.title(\"Is sentiment_subjectivity proportional to sentiment_polarity\")\n",
        "plt.show()"
      ],
      "metadata": {
        "id": "C8WI4K990Oih"
      },
      "execution_count": null,
      "outputs": []
    },
    {
      "cell_type": "markdown",
      "source": [
        "From the above scatter plot it can be concluded that sentiment subjectivity is not always proportional to sentiment polarity but in maximum number of case, shows a proportional behavior, when variance is too high or low"
      ],
      "metadata": {
        "id": "PIHogcIH01W_"
      }
    },
    {
      "cell_type": "code",
      "source": [],
      "metadata": {
        "id": "cat8k2qp0OlH"
      },
      "execution_count": null,
      "outputs": []
    },
    {
      "cell_type": "markdown",
      "source": [
        "## **5. Solution to Business Objective**"
      ],
      "metadata": {
        "id": "JcMwzZxoAimU"
      }
    },
    {
      "cell_type": "markdown",
      "source": [
        "#### What do you suggest the client to achieve Business Objective ? \n",
        "Explain Briefly.\n"
      ],
      "metadata": {
        "id": "8G2x9gOozGDZ"
      }
    },
    {
      "cell_type": "markdown",
      "source": [
        "Answer Here.\n",
        "\n",
        "\n",
        "Based on the insights gained from the visualizations, there are several recommendations for the client to achieve their business objectives:\n",
        "\n",
        "Focus on developing apps in the most popular categories: The client can focus on developing apps in the most popular categories such as Games, Tools, and Photography which have the highest number of installs.\n",
        "\n",
        "Price the apps appropriately: The pricing trend across different categories of apps suggests that the client should price their apps based on the category they belong to. \n",
        "\n",
        "Improve app ratings and reviews: The distribution of app ratings suggests that the majority of apps have a rating of 4 and above. The client can focus on improving the ratings and reviews of their apps by addressing user concerns and feedback.\n",
        "\n",
        "Focus on free apps: The pie chart shows that the majority of apps in the Play Store are free. Therefore, the client can focus on developing more free apps to increase the number of downloads and installs.\n",
        "\n",
        "Develop apps for the latest Android versions: The scatterplot suggests a positive correlation between the Android version and the number of installs. Therefore, the client should focus on developing apps for the latest Android versions to improve the number of downloads and installs."
      ],
      "metadata": {
        "id": "pASKb0qOza21"
      }
    },
    {
      "cell_type": "markdown",
      "source": [
        "# **Conclusion**"
      ],
      "metadata": {
        "id": "gCX9965dhzqZ"
      }
    },
    {
      "cell_type": "markdown",
      "source": [
        "Write the conclusion here.\n",
        "\n",
        "In conclusion, the analysis of the Google Play Store dataset revealed various insights that can be valuable for businesses and app developers. Some of the key insights obtained from the visualizations include:\n",
        "\n",
        "The majority of apps on the Google Play Store are free, with only a small percentage of apps being paid.\n",
        "\n",
        "The most popular app categories on the Google Play Store are Family, Game, and Tools.\n",
        "\n",
        "App size does not have a significant impact on app rating or app installs.\n",
        "\n",
        "There is a positive correlation between the number of installs and the rating of an app, indicating that users are more likely to rate apps positively if they are widely downloaded.\n",
        "\n",
        "Price does not seem to be a significant factor in determining the popularity of an app, as most apps are either free or low-priced.\n",
        "\n",
        "The sentiment does not influence the final rating of the app because of the proportional behaviour.\n",
        "\n",
        "Based on these insights, businesses and app developers can make informed decisions regarding their app development and marketing strategies. For example, they can focus on developing apps in popular categories such as Family, Game, and Tools, and prioritize making their apps free or low-priced. They can also aim to increase the number of installs for their apps, as this can lead to higher app ratings and increased visibility on the Google Play Store. Additionally, they can prioritize optimizing their app's performance and features rather than size, as size does not seem to be a significant factor in determining an app's success."
      ],
      "metadata": {
        "id": "Fjb1IsQkh3yE"
      }
    },
    {
      "cell_type": "markdown",
      "source": [
        "### ***Hurrah! You have successfully completed your EDA Capstone Project !!!***"
      ],
      "metadata": {
        "id": "gIfDvo9L0UH2"
      }
    },
    {
      "cell_type": "markdown",
      "source": [],
      "metadata": {
        "id": "oyWoHZSBfY7X"
      }
    }
  ]
}